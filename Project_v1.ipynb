{
 "cells": [
  {
   "attachments": {},
   "cell_type": "markdown",
   "metadata": {},
   "source": [
    "# 1 Bilder Laden und Klassifzieren"
   ]
  },
  {
   "attachments": {},
   "cell_type": "markdown",
   "metadata": {},
   "source": [
    "### 1.1 Setup (Code from here: https://github.com/nicknochnack/ImageClassification/blob/main/Getting%20Started.ipynb)"
   ]
  },
  {
   "cell_type": "code",
   "execution_count": null,
   "metadata": {},
   "outputs": [],
   "source": [
    "# !pip install tensorflow matplotlib"
   ]
  },
  {
   "cell_type": "code",
   "execution_count": 3,
   "metadata": {},
   "outputs": [
    {
     "name": "stdout",
     "output_type": "stream",
     "text": [
      "Package                      Version\n",
      "---------------------------- ------------\n",
      "absl-py                      1.4.0\n",
      "asttokens                    2.2.1\n",
      "astunparse                   1.6.3\n",
      "async-generator              1.10\n",
      "async-lru                    1.0.1\n",
      "backcall                     0.2.0\n",
      "boto3                        1.24.24\n",
      "botocore                     1.27.24\n",
      "cachetools                   4.2.4\n",
      "certifi                      2021.10.8\n",
      "charset-normalizer           2.0.7\n",
      "click                        8.1.3\n",
      "colorama                     0.4.4\n",
      "comm                         0.1.3\n",
      "commonmark                   0.9.1\n",
      "contourpy                    1.0.7\n",
      "cycler                       0.11.0\n",
      "debugpy                      1.6.7\n",
      "decorator                    4.4.2\n",
      "dill                         0.3.5.1\n",
      "executing                    1.2.0\n",
      "flatbuffers                  23.5.26\n",
      "fonttools                    4.39.4\n",
      "gast                         0.4.0\n",
      "google-api-core              2.2.2\n",
      "google-api-python-client     2.31.0\n",
      "google-auth                  2.19.0\n",
      "google-auth-httplib2         0.1.0\n",
      "google-auth-oauthlib         1.0.0\n",
      "google-pasta                 0.2.0\n",
      "googleapis-common-protos     1.53.0\n",
      "greenlet                     1.1.2\n",
      "grpcio                       1.54.2\n",
      "gTTS                         2.2.4\n",
      "h5py                         3.8.0\n",
      "hachoir                      3.1.3\n",
      "httplib2                     0.20.2\n",
      "idna                         3.3\n",
      "imageio                      2.11.1\n",
      "imageio-ffmpeg               0.4.5\n",
      "ipykernel                    6.23.1\n",
      "ipython                      8.13.2\n",
      "jax                          0.4.11\n",
      "jedi                         0.18.2\n",
      "jmespath                     1.0.1\n",
      "jupyter_client               8.2.0\n",
      "jupyter_core                 5.3.0\n",
      "keras                        2.12.0\n",
      "kiwisolver                   1.4.4\n",
      "libclang                     16.0.0\n",
      "loguru                       0.6.0\n",
      "lxml                         4.9.1\n",
      "Markdown                     3.4.3\n",
      "MarkupSafe                   2.1.2\n",
      "matplotlib                   3.7.1\n",
      "matplotlib-inline            0.1.6\n",
      "ml-dtypes                    0.1.0\n",
      "moviepy                      1.0.3\n",
      "multiprocess                 0.70.13\n",
      "nest-asyncio                 1.5.6\n",
      "numpy                        1.23.5\n",
      "oauth2client                 4.1.3\n",
      "oauthlib                     3.1.1\n",
      "opt-einsum                   3.3.0\n",
      "packaging                    23.1\n",
      "parso                        0.8.3\n",
      "pathos                       0.2.9\n",
      "pickleshare                  0.7.5\n",
      "Pillow                       8.4.0\n",
      "pip                          22.2.1\n",
      "platformdirs                 3.5.1\n",
      "playwright                   1.23.0\n",
      "pox                          0.3.1\n",
      "ppft                         1.7.6.5\n",
      "praw                         7.5.0\n",
      "prawcore                     2.3.0\n",
      "proglog                      0.1.9\n",
      "prompt-toolkit               3.0.38\n",
      "protobuf                     4.23.2\n",
      "psutil                       5.9.5\n",
      "pure-eval                    0.2.2\n",
      "pyaes                        1.6.1\n",
      "pyasn1                       0.4.8\n",
      "pyasn1-modules               0.2.8\n",
      "pyee                         8.1.0\n",
      "PyExecJS                     1.5.1\n",
      "Pygments                     2.12.0\n",
      "pyparsing                    3.0.6\n",
      "Pyrogram                     0.18.0-async\n",
      "PySocks                      1.7.1\n",
      "python-dateutil              2.8.2\n",
      "python-dotenv                0.19.2\n",
      "python-version               0.0.2\n",
      "pytube                       12.1.0\n",
      "pywin32                      306\n",
      "pyzmq                        25.1.0\n",
      "requests                     2.26.0\n",
      "requests-oauthlib            1.3.0\n",
      "rich                         12.5.1\n",
      "rsa                          4.7.2\n",
      "s3transfer                   0.6.0\n",
      "scipy                        1.10.1\n",
      "six                          1.16.0\n",
      "stack-data                   0.6.2\n",
      "tensorboard                  2.12.3\n",
      "tensorboard-data-server      0.7.0\n",
      "tensorflow                   2.12.0\n",
      "tensorflow-estimator         2.12.0\n",
      "tensorflow-intel             2.12.0\n",
      "tensorflow-io-gcs-filesystem 0.31.0\n",
      "termcolor                    2.3.0\n",
      "TgCrypto                     1.2.3\n",
      "toml                         0.10.2\n",
      "tornado                      6.3.2\n",
      "tqdm                         4.62.3\n",
      "traitlets                    5.9.0\n",
      "translators                  5.3.1\n",
      "typing_extensions            4.6.2\n",
      "update-checker               0.18.0\n",
      "uritemplate                  4.1.1\n",
      "urllib3                      1.26.7\n",
      "wcwidth                      0.2.6\n",
      "websocket-client             1.2.1\n",
      "websockets                   10.1\n",
      "Werkzeug                     2.3.4\n",
      "wget                         3.2\n",
      "wheel                        0.37.1\n",
      "win32-setctime               1.1.0\n",
      "wrapt                        1.14.1\n",
      "youtube-dl                   2021.12.17\n"
     ]
    },
    {
     "name": "stderr",
     "output_type": "stream",
     "text": [
      "\n",
      "[notice] A new release of pip available: 22.2.1 -> 23.1.2\n",
      "[notice] To update, run: C:\\Users\\tobia\\AppData\\Local\\Microsoft\\WindowsApps\\PythonSoftwareFoundation.Python.3.10_qbz5n2kfra8p0\\python.exe -m pip install --upgrade pip\n"
     ]
    }
   ],
   "source": [
    "!pip list"
   ]
  },
  {
   "cell_type": "code",
   "execution_count": 5,
   "metadata": {},
   "outputs": [],
   "source": [
    "import tensorflow as tf\n",
    "import os"
   ]
  },
  {
   "cell_type": "code",
   "execution_count": 6,
   "metadata": {},
   "outputs": [],
   "source": [
    "# Avoid OOM errors by setting GPU Memory Consumption Growth\n",
    "gpus = tf.config.experimental.list_physical_devices('GPU')\n",
    "for gpu in gpus: \n",
    "    tf.config.experimental.set_memory_growth(gpu, True)"
   ]
  },
  {
   "cell_type": "code",
   "execution_count": 8,
   "metadata": {},
   "outputs": [
    {
     "data": {
      "text/plain": [
       "[]"
      ]
     },
     "execution_count": 8,
     "metadata": {},
     "output_type": "execute_result"
    }
   ],
   "source": [
    "tf.config.list_physical_devices('GPU')"
   ]
  },
  {
   "attachments": {},
   "cell_type": "markdown",
   "metadata": {},
   "source": [
    "### 1.2 Remove Images (Code from here: https://github.com/nicknochnack/ImageClassification/blob/main/Getting%20Started.ipynb)"
   ]
  },
  {
   "cell_type": "code",
   "execution_count": null,
   "metadata": {},
   "outputs": [],
   "source": [
    "import cv2\n",
    "import imghdr"
   ]
  },
  {
   "cell_type": "code",
   "execution_count": null,
   "metadata": {},
   "outputs": [],
   "source": [
    "data_dir = 'data' "
   ]
  },
  {
   "cell_type": "code",
   "execution_count": null,
   "metadata": {},
   "outputs": [],
   "source": [
    "image_exts = ['jpeg','jpg', 'bmp', 'png']"
   ]
  },
  {
   "cell_type": "code",
   "execution_count": null,
   "metadata": {},
   "outputs": [],
   "source": [
    "for image_class in os.listdir(data_dir): \n",
    "    for image in os.listdir(os.path.join(data_dir, image_class)):\n",
    "        image_path = os.path.join(data_dir, image_class, image)\n",
    "        try: \n",
    "            img = cv2.imread(image_path)\n",
    "            tip = imghdr.what(image_path)\n",
    "            if tip not in image_exts: \n",
    "                print('Image not in ext list {}'.format(image_path))\n",
    "                os.remove(image_path)\n",
    "        except Exception as e: \n",
    "            print('Issue with image {}'.format(image_path))\n",
    "            # os.remove(image_path)"
   ]
  },
  {
   "attachments": {},
   "cell_type": "markdown",
   "metadata": {},
   "source": [
    "### 1.3 Load Data (Code from here: https://github.com/nicknochnack/ImageClassification/blob/main/Getting%20Started.ipynb)"
   ]
  },
  {
   "cell_type": "code",
   "execution_count": null,
   "metadata": {},
   "outputs": [],
   "source": [
    "import numpy as np\n",
    "from matplotlib import pyplot as plt"
   ]
  },
  {
   "cell_type": "code",
   "execution_count": null,
   "metadata": {},
   "outputs": [],
   "source": [
    "data = tf.keras.utils.image_dataset_from_directory('data')\n"
   ]
  },
  {
   "cell_type": "code",
   "execution_count": null,
   "metadata": {},
   "outputs": [],
   "source": [
    "data_iterator = data.as_numpy_iterator()\n"
   ]
  },
  {
   "cell_type": "code",
   "execution_count": null,
   "metadata": {},
   "outputs": [],
   "source": [
    "batch = data_iterator.next()\n"
   ]
  },
  {
   "cell_type": "code",
   "execution_count": null,
   "metadata": {},
   "outputs": [],
   "source": [
    "fig, ax = plt.subplots(ncols=4, figsize=(20,20))\n",
    "for idx, img in enumerate(batch[0][:4]):\n",
    "    ax[idx].imshow(img.astype(int))\n",
    "    ax[idx].title.set_text(batch[1][idx])"
   ]
  },
  {
   "attachments": {},
   "cell_type": "markdown",
   "metadata": {},
   "source": [
    "### 1.4 Scale Data (Code from here: https://github.com/nicknochnack/ImageClassification/blob/main/Getting%20Started.ipynb)"
   ]
  }
 ],
 "metadata": {
  "kernelspec": {
   "display_name": "base",
   "language": "python",
   "name": "python3"
  },
  "language_info": {
   "codemirror_mode": {
    "name": "ipython",
    "version": 3
   },
   "file_extension": ".py",
   "mimetype": "text/x-python",
   "name": "python",
   "nbconvert_exporter": "python",
   "pygments_lexer": "ipython3",
   "version": "3.10.11"
  },
  "orig_nbformat": 4
 },
 "nbformat": 4,
 "nbformat_minor": 2
}
